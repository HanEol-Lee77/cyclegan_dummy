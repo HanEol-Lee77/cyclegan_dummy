{
 "cells": [
  {
   "cell_type": "code",
   "execution_count": 2,
   "metadata": {},
   "outputs": [
    {
     "data": {
      "text/plain": [
       "'/mnt/ssd/unist/helee/mricyclegan/datasets_dummy'"
      ]
     },
     "execution_count": 2,
     "metadata": {},
     "output_type": "execute_result"
    }
   ],
   "source": [
    "import numpy as np\n",
    "import torch\n",
    "import os\n",
    "os.getcwd()"
   ]
  },
  {
   "cell_type": "code",
   "execution_count": 3,
   "metadata": {},
   "outputs": [
    {
     "name": "stdout",
     "output_type": "stream",
     "text": [
      "1th complete!\n",
      "11th complete!\n",
      "21th complete!\n",
      "31th complete!\n",
      "41th complete!\n",
      "51th complete!\n",
      "61th complete!\n",
      "71th complete!\n",
      "81th complete!\n",
      "91th complete!\n",
      "101th complete!\n",
      "111th complete!\n",
      "121th complete!\n",
      "131th complete!\n",
      "141th complete!\n",
      "151th complete!\n",
      "161th complete!\n",
      "171th complete!\n",
      "181th complete!\n",
      "191th complete!\n"
     ]
    }
   ],
   "source": [
    "for i in range(200):\n",
    "\n",
    "\n",
    "    A = torch.rand(1,256,256,60)\n",
    "    B = torch.rand(1,256,256,1)\n",
    "\n",
    "    np.save(f'./A_{str(i+1)}.npy', A)\n",
    "    np.save(f'./B_{str(i+1)}.npy', B)\n",
    "    if i%10 == 0:\n",
    "        print(f'{i}th complete!')"
   ]
  },
  {
   "cell_type": "code",
   "execution_count": null,
   "metadata": {},
   "outputs": [],
   "source": []
  }
 ],
 "metadata": {
  "interpreter": {
   "hash": "a133ae593f5373e44fcef45670ed08d947428498fd498728fa340ee3703f2f8f"
  },
  "kernelspec": {
   "display_name": "Python 3.6.10 ('py36torch': conda)",
   "language": "python",
   "name": "python3"
  },
  "language_info": {
   "codemirror_mode": {
    "name": "ipython",
    "version": 3
   },
   "file_extension": ".py",
   "mimetype": "text/x-python",
   "name": "python",
   "nbconvert_exporter": "python",
   "pygments_lexer": "ipython3",
   "version": "3.6.10"
  },
  "orig_nbformat": 4
 },
 "nbformat": 4,
 "nbformat_minor": 2
}
